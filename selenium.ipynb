{
 "cells": [
  {
   "cell_type": "code",
   "execution_count": 87,
   "metadata": {},
   "outputs": [],
   "source": [
    "#pip install selenium"
   ]
  },
  {
   "cell_type": "code",
   "execution_count": 88,
   "metadata": {},
   "outputs": [],
   "source": [
    "from selenium import webdriver #The Selenium package we'll need\n",
    "import time #This package lets us pause execution for a bit\n",
    "from selenium.common.exceptions import NoSuchElementException, ElementClickInterceptedException       \n",
    "from selenium.webdriver.common.by import By"
   ]
  },
  {
   "cell_type": "code",
   "execution_count": 89,
   "metadata": {},
   "outputs": [],
   "source": [
    "url = 'https://www.tripadvisor.com/Restaurants-g189473-Thessaloniki_Thessaloniki_Region_Central_Macedonia.html'"
   ]
  },
  {
   "cell_type": "code",
   "execution_count": 90,
   "metadata": {},
   "outputs": [],
   "source": [
    "driver = webdriver.Chrome()\n",
    "driver.get(url)\n",
    "time.sleep(5)\n",
    "driver.find_element(By.ID, \"onetrust-accept-btn-handler\").click()\n"
   ]
  },
  {
   "cell_type": "code",
   "execution_count": 114,
   "metadata": {},
   "outputs": [],
   "source": [
    "def selectCheckbox1(showMore, driver):\n",
    "    showMore.click()\n",
    "\n",
    "    time.sleep(3)\n",
    "    label_text = \"Coffee & Tea\"\n",
    "    label_element = driver.find_element(By.XPATH, \"//label[contains(., '{}')]\".format(label_text))\n",
    "    checkbox = label_element.find_element(By.XPATH, \"./preceding-sibling::input\")\n",
    "    driver.execute_script(\"arguments[0].click();\", checkbox)\n",
    "\n",
    "    time.sleep(3)\n",
    "    label_text = \"Bars & Pubs\"\n",
    "    label_element = driver.find_element(By.XPATH, \"//label[contains(., '{}')]\".format(label_text))\n",
    "    checkbox = label_element.find_element(By.XPATH, \"./preceding-sibling::input\")\n",
    "    driver.execute_script(\"arguments[0].click();\", checkbox)\n",
    "\n",
    "    time.sleep(3)\n",
    "    label_text = \"Restaurants\"\n",
    "    label_element = driver.find_elements(By.XPATH, \"//label[contains(., '{}')]\".format(label_text))\n",
    "    checkbox = label_element[2].find_element(By.XPATH, \"./preceding-sibling::input\")\n",
    "    driver.execute_script(\"arguments[0].removeAttribute('checked'); arguments[0].click();\", checkbox)\n",
    "        "
   ]
  },
  {
   "cell_type": "code",
   "execution_count": 158,
   "metadata": {},
   "outputs": [],
   "source": [
    "def selectCheckbox2(showMore, driver):\n",
    "    showMore.click()\n",
    "\n",
    "    label_text = \"Coffee & Tea\"\n",
    "    label_element = driver.find_element(By.XPATH, \"//label[contains(., '{}')]\".format(label_text))\n",
    "    checkbox = label_element.find_element(By.XPATH, \"preceding::input[1]\")\n",
    "    driver.execute_script(\"arguments[0].click();\", checkbox)\n",
    "\n",
    "\n",
    "    time.sleep(3)\n",
    "    label_text = \"Bars & Pubs\"\n",
    "    label_element = driver.find_element(By.XPATH, \"//label[contains(., '{}')]\".format(label_text))\n",
    "    checkbox = label_element.find_element(By.XPATH, \"preceding::input[1]\")\n",
    "    driver.execute_script(\"arguments[0].click();\", checkbox)\n",
    "\n",
    "    print(\"ok2\")\n",
    "\n",
    "    time.sleep(3)\n",
    "    label_text = \"Restaurants\"\n",
    "    label_element = driver.find_element(By.XPATH, \"//label[contains(., '{}')]\".format(label_text))\n",
    "    checkbox = label_element.find_element(By.XPATH, \"preceding::input[1]\")\n",
    "    driver.execute_script(\"arguments[0].removeAttribute('checked'); arguments[0].click();\", checkbox)\n",
    "\n",
    "    print(\"ok3\")"
   ]
  },
  {
   "cell_type": "code",
   "execution_count": 159,
   "metadata": {},
   "outputs": [
    {
     "name": "stdout",
     "output_type": "stream",
     "text": [
      "ok2\n",
      "ok3\n"
     ]
    }
   ],
   "source": [
    "try:\n",
    "    text_to_find = \"Show more\"\n",
    "    showMore = driver.find_element(By.XPATH, \"//span[contains(text(), '{}')]\".format(text_to_find))\n",
    "    selectCheckbox1(showMore, driver) \n",
    "\n",
    "except NoSuchElementException:\n",
    "    try:\n",
    "        showMore = driver.find_element(By.XPATH, \"//button[contains(@aria-controls, 'filter-expando-establishmentTypes')]\")\n",
    "        selectCheckbox2(showMore, driver)\n",
    "    except NoSuchElementException:\n",
    "        print(\"Something went wrong...\")\n",
    "\n",
    "   "
   ]
  },
  {
   "cell_type": "code",
   "execution_count": null,
   "metadata": {},
   "outputs": [],
   "source": [
    "def  getReviews(driver, review):\n",
    "\n",
    "    while True:\n",
    "        try:\n",
    "            business_pages = driver.find_elements(\"xpath\", f\".//div[contains(@data-test, '{review}_list_item')]\")\n",
    "\n",
    "            if len(business_pages) > 0:\n",
    "                href_element = business_pages[0].find_element(\"xpath\", \".//a\")\n",
    "                href_value = href_element.get_attribute(\"href\")\n",
    "                driver.get(href_value)\n",
    "                time.sleep(3)\n",
    "                print(f\"review3 {review}\")\n",
    "                scroll_script = \"document.getElementById('{}').scrollIntoView();\".format( \"REVIEWS\")\n",
    "                driver.execute_script(scroll_script)\n",
    "                        \n",
    "                driver.back()\n",
    "                time.sleep(5)    \n",
    "            else:\n",
    "                return review\n",
    "                        \n",
    "        except ElementClickInterceptedException:\n",
    "            # Retry the operation after waiting for some time\n",
    "            time.sleep(5)\n",
    "            continue\n",
    "        except NoSuchElementException:\n",
    "            print(\"break\")\n",
    "            break\n",
    "\n",
    "        review += 1\n",
    "    \n",
    "    \n",
    "        "
   ]
  },
  {
   "cell_type": "code",
   "execution_count": null,
   "metadata": {},
   "outputs": [],
   "source": [
    "def goToPage(driver, review, counter):\n",
    "    try:\n",
    "        next_page_link = driver.find_element(\"xpath\", f\".//a[contains(@aria-label, {counter})]\")\n",
    "    except NoSuchElementException:\n",
    "        next_page_link = driver.find_element(\"xpath\", f\".//a[contains(@data-page-number, {counter})]\")\n",
    "           \n",
    "    if next_page_link:\n",
    "        next_page_link.click()\n",
    "        time.sleep(5)\n",
    "        reviewNum = getReviews(driver, review)\n",
    "        review = reviewNum\n",
    "    else:\n",
    "        print(\"ok1\")\n",
    "        # No more pages, break the loop\n",
    "        return \n",
    "        "
   ]
  },
  {
   "cell_type": "code",
   "execution_count": null,
   "metadata": {},
   "outputs": [
    {
     "name": "stdout",
     "output_type": "stream",
     "text": [
      "1\n"
     ]
    },
    {
     "ename": "NoSuchWindowException",
     "evalue": "Message: no such window: target window already closed\nfrom unknown error: web view not found\n  (Session info: chrome=113.0.5672.129)\nStacktrace:\nBacktrace:\n\tGetHandleVerifier [0x01118893+48451]\n\t(No symbol) [0x010AB8A1]\n\t(No symbol) [0x00FB5058]\n\t(No symbol) [0x00F9D073]\n\t(No symbol) [0x00FFDEBB]\n\t(No symbol) [0x0100BFD3]\n\t(No symbol) [0x00FFA0B6]\n\t(No symbol) [0x00FD7E08]\n\t(No symbol) [0x00FD8F2D]\n\tGetHandleVerifier [0x01378E3A+2540266]\n\tGetHandleVerifier [0x013B8959+2801161]\n\tGetHandleVerifier [0x013B295C+2776588]\n\tGetHandleVerifier [0x011A2280+612144]\n\t(No symbol) [0x010B4F6C]\n\t(No symbol) [0x010B11D8]\n\t(No symbol) [0x010B12BB]\n\t(No symbol) [0x010A4857]\n\tBaseThreadInitThunk [0x77756BA9+25]\n\tRtlGetFullPathName_UEx [0x77C08F9F+1215]\n\tRtlGetFullPathName_UEx [0x77C08F6D+1165]\n",
     "output_type": "error",
     "traceback": [
      "\u001b[1;31m---------------------------------------------------------------------------\u001b[0m",
      "\u001b[1;31mNoSuchWindowException\u001b[0m                     Traceback (most recent call last)",
      "Cell \u001b[1;32mIn[637], line 5\u001b[0m\n\u001b[0;32m      2\u001b[0m review \u001b[39m=\u001b[39m \u001b[39m1\u001b[39m\n\u001b[0;32m      4\u001b[0m time\u001b[39m.\u001b[39msleep(\u001b[39m3\u001b[39m)\n\u001b[1;32m----> 5\u001b[0m reviewNum \u001b[39m=\u001b[39m navigate(driver, review)\n\u001b[0;32m      7\u001b[0m \u001b[39m# print(f\"review0 {review}\")\u001b[39;00m\n\u001b[0;32m      8\u001b[0m \u001b[39m# while True:\u001b[39;00m\n\u001b[0;32m      9\u001b[0m \u001b[39m#     # give the DOM time to load\u001b[39;00m\n\u001b[1;32m   (...)\u001b[0m\n\u001b[0;32m     27\u001b[0m \u001b[39m# When all pages have been processed, quit the driver\u001b[39;00m\n\u001b[0;32m     28\u001b[0m \u001b[39m# driver.quit()\u001b[39;00m\n",
      "Cell \u001b[1;32mIn[636], line 7\u001b[0m, in \u001b[0;36mnavigate\u001b[1;34m(driver, review)\u001b[0m\n\u001b[0;32m      5\u001b[0m \u001b[39mprint\u001b[39m(review)\n\u001b[0;32m      6\u001b[0m time\u001b[39m.\u001b[39msleep(\u001b[39m3\u001b[39m)\n\u001b[1;32m----> 7\u001b[0m business_pages \u001b[39m=\u001b[39m driver\u001b[39m.\u001b[39;49mfind_element(\u001b[39m\"\u001b[39;49m\u001b[39mxpath\u001b[39;49m\u001b[39m\"\u001b[39;49m, \u001b[39mf\u001b[39;49m\u001b[39m\"\u001b[39;49m\u001b[39m.//div[contains(@data-test, \u001b[39;49m\u001b[39m'\u001b[39;49m\u001b[39m{\u001b[39;49;00mreview\u001b[39m}\u001b[39;49;00m\u001b[39m_list_item\u001b[39;49m\u001b[39m'\u001b[39;49m\u001b[39m)]\u001b[39;49m\u001b[39m\"\u001b[39;49m)\n\u001b[0;32m      8\u001b[0m time\u001b[39m.\u001b[39msleep(\u001b[39m3\u001b[39m)\n\u001b[0;32m      9\u001b[0m business_pages\u001b[39m.\u001b[39mclick()\n",
      "File \u001b[1;32mc:\\Users\\kyriaki.potamopoulou\\AppData\\Local\\Programs\\Python\\Python310\\lib\\site-packages\\selenium\\webdriver\\remote\\webdriver.py:831\u001b[0m, in \u001b[0;36mWebDriver.find_element\u001b[1;34m(self, by, value)\u001b[0m\n\u001b[0;32m    828\u001b[0m     by \u001b[39m=\u001b[39m By\u001b[39m.\u001b[39mCSS_SELECTOR\n\u001b[0;32m    829\u001b[0m     value \u001b[39m=\u001b[39m \u001b[39mf\u001b[39m\u001b[39m'\u001b[39m\u001b[39m[name=\u001b[39m\u001b[39m\"\u001b[39m\u001b[39m{\u001b[39;00mvalue\u001b[39m}\u001b[39;00m\u001b[39m\"\u001b[39m\u001b[39m]\u001b[39m\u001b[39m'\u001b[39m\n\u001b[1;32m--> 831\u001b[0m \u001b[39mreturn\u001b[39;00m \u001b[39mself\u001b[39;49m\u001b[39m.\u001b[39;49mexecute(Command\u001b[39m.\u001b[39;49mFIND_ELEMENT, {\u001b[39m\"\u001b[39;49m\u001b[39musing\u001b[39;49m\u001b[39m\"\u001b[39;49m: by, \u001b[39m\"\u001b[39;49m\u001b[39mvalue\u001b[39;49m\u001b[39m\"\u001b[39;49m: value})[\u001b[39m\"\u001b[39m\u001b[39mvalue\u001b[39m\u001b[39m\"\u001b[39m]\n",
      "File \u001b[1;32mc:\\Users\\kyriaki.potamopoulou\\AppData\\Local\\Programs\\Python\\Python310\\lib\\site-packages\\selenium\\webdriver\\remote\\webdriver.py:440\u001b[0m, in \u001b[0;36mWebDriver.execute\u001b[1;34m(self, driver_command, params)\u001b[0m\n\u001b[0;32m    438\u001b[0m response \u001b[39m=\u001b[39m \u001b[39mself\u001b[39m\u001b[39m.\u001b[39mcommand_executor\u001b[39m.\u001b[39mexecute(driver_command, params)\n\u001b[0;32m    439\u001b[0m \u001b[39mif\u001b[39;00m response:\n\u001b[1;32m--> 440\u001b[0m     \u001b[39mself\u001b[39;49m\u001b[39m.\u001b[39;49merror_handler\u001b[39m.\u001b[39;49mcheck_response(response)\n\u001b[0;32m    441\u001b[0m     response[\u001b[39m\"\u001b[39m\u001b[39mvalue\u001b[39m\u001b[39m\"\u001b[39m] \u001b[39m=\u001b[39m \u001b[39mself\u001b[39m\u001b[39m.\u001b[39m_unwrap_value(response\u001b[39m.\u001b[39mget(\u001b[39m\"\u001b[39m\u001b[39mvalue\u001b[39m\u001b[39m\"\u001b[39m, \u001b[39mNone\u001b[39;00m))\n\u001b[0;32m    442\u001b[0m     \u001b[39mreturn\u001b[39;00m response\n",
      "File \u001b[1;32mc:\\Users\\kyriaki.potamopoulou\\AppData\\Local\\Programs\\Python\\Python310\\lib\\site-packages\\selenium\\webdriver\\remote\\errorhandler.py:245\u001b[0m, in \u001b[0;36mErrorHandler.check_response\u001b[1;34m(self, response)\u001b[0m\n\u001b[0;32m    243\u001b[0m         alert_text \u001b[39m=\u001b[39m value[\u001b[39m\"\u001b[39m\u001b[39malert\u001b[39m\u001b[39m\"\u001b[39m]\u001b[39m.\u001b[39mget(\u001b[39m\"\u001b[39m\u001b[39mtext\u001b[39m\u001b[39m\"\u001b[39m)\n\u001b[0;32m    244\u001b[0m     \u001b[39mraise\u001b[39;00m exception_class(message, screen, stacktrace, alert_text)  \u001b[39m# type: ignore[call-arg]  # mypy is not smart enough here\u001b[39;00m\n\u001b[1;32m--> 245\u001b[0m \u001b[39mraise\u001b[39;00m exception_class(message, screen, stacktrace)\n",
      "\u001b[1;31mNoSuchWindowException\u001b[0m: Message: no such window: target window already closed\nfrom unknown error: web view not found\n  (Session info: chrome=113.0.5672.129)\nStacktrace:\nBacktrace:\n\tGetHandleVerifier [0x01118893+48451]\n\t(No symbol) [0x010AB8A1]\n\t(No symbol) [0x00FB5058]\n\t(No symbol) [0x00F9D073]\n\t(No symbol) [0x00FFDEBB]\n\t(No symbol) [0x0100BFD3]\n\t(No symbol) [0x00FFA0B6]\n\t(No symbol) [0x00FD7E08]\n\t(No symbol) [0x00FD8F2D]\n\tGetHandleVerifier [0x01378E3A+2540266]\n\tGetHandleVerifier [0x013B8959+2801161]\n\tGetHandleVerifier [0x013B295C+2776588]\n\tGetHandleVerifier [0x011A2280+612144]\n\t(No symbol) [0x010B4F6C]\n\t(No symbol) [0x010B11D8]\n\t(No symbol) [0x010B12BB]\n\t(No symbol) [0x010A4857]\n\tBaseThreadInitThunk [0x77756BA9+25]\n\tRtlGetFullPathName_UEx [0x77C08F9F+1215]\n\tRtlGetFullPathName_UEx [0x77C08F6D+1165]\n"
     ]
    }
   ],
   "source": [
    "counter = 2\n",
    "review = 1\n",
    "\n",
    "time.sleep(3)\n",
    "reviewNum = navigate(driver, review)\n",
    "\n",
    "# print(f\"review0 {review}\")\n",
    "# while True:\n",
    "#     # give the DOM time to load\n",
    "#     print(f\"counter1 {counter}\")\n",
    "#     time.sleep(3)\n",
    "#     if counter < 4:\n",
    "#         try:\n",
    "#             reviewNum2 = goToPage(driver, reviewNum, counter)\n",
    "#             reviewNum = reviewNum2\n",
    "#             print(f\"review1 {reviewNum}\")\n",
    "#         except ElementClickInterceptedException:\n",
    "#             # Retry the operation after waiting for some time\n",
    "#             time.sleep(5)\n",
    "#             continue\n",
    "#         except NoSuchElementException:\n",
    "#             break       \n",
    "#         counter += 1\n",
    "#     else:\n",
    "#         break\n",
    "\n",
    "# When all pages have been processed, quit the driver\n",
    "# driver.quit()"
   ]
  },
  {
   "cell_type": "code",
   "execution_count": null,
   "metadata": {},
   "outputs": [],
   "source": [
    "def  navigate(driver, review):\n",
    "\n",
    "    while True:\n",
    "        try:\n",
    "            print(review)\n",
    "            time.sleep(3)\n",
    "            business_pages = driver.find_element(\"xpath\", f\".//div[contains(@data-test, '{review}_list_item')]\")\n",
    "            time.sleep(3)\n",
    "            business_pages.click()\n",
    "            #Switch to the new window or tab\n",
    "            driver.switch_to.window(driver.window_handles[1])\n",
    "\n",
    "            scroll_script = \"document.getElementById('{}').scrollIntoView();\".format( \"REVIEWS\")\n",
    "            driver.execute_script(scroll_script)\n",
    "            \n",
    "            # Close the current window\n",
    "            driver.close()\n",
    "\n",
    "            # Switch back to the previous window\n",
    "            driver.switch_to.window(driver.window_handles[0])\n",
    "                        \n",
    "        except ElementClickInterceptedException:\n",
    "            # Retry the operation after waiting for some time\n",
    "            time.sleep(5)\n",
    "            continue\n",
    "        except NoSuchElementException:\n",
    "            print(\"break\")\n",
    "            break\n",
    "\n",
    "        review += 1"
   ]
  }
 ],
 "metadata": {
  "kernelspec": {
   "display_name": "Python 3",
   "language": "python",
   "name": "python3"
  },
  "language_info": {
   "codemirror_mode": {
    "name": "ipython",
    "version": 3
   },
   "file_extension": ".py",
   "mimetype": "text/x-python",
   "name": "python",
   "nbconvert_exporter": "python",
   "pygments_lexer": "ipython3",
   "version": "3.10.0"
  },
  "orig_nbformat": 4
 },
 "nbformat": 4,
 "nbformat_minor": 2
}
