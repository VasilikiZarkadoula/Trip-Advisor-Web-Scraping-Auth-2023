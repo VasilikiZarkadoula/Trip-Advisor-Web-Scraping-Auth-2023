{
 "cells": [
  {
   "cell_type": "code",
   "execution_count": 564,
   "metadata": {},
   "outputs": [],
   "source": [
    "#pip install selenium"
   ]
  },
  {
   "cell_type": "code",
   "execution_count": 565,
   "metadata": {},
   "outputs": [],
   "source": [
    "import csv #This package lets us save data to a csv file\n",
    "from selenium import webdriver #The Selenium package we'll need\n",
    "import time #This package lets us pause execution for a bit\n",
    "from selenium.common.exceptions import NoSuchElementException, ElementClickInterceptedException       \n",
    "from selenium.webdriver.common.by import By"
   ]
  },
  {
   "cell_type": "code",
   "execution_count": 566,
   "metadata": {},
   "outputs": [],
   "source": [
    "path_to_file = \"C:/Users/kyriaki.potamopoulou/Documents/DWS/Web mining/RestaurantReviews.csv\""
   ]
  },
  {
   "cell_type": "code",
   "execution_count": 567,
   "metadata": {},
   "outputs": [],
   "source": [
    "pages_to_scrape = 3\n",
    "url = 'https://www.tripadvisor.com/Restaurants-g189473-Thessaloniki_Thessaloniki_Region_Central_Macedonia.html'"
   ]
  },
  {
   "cell_type": "code",
   "execution_count": 568,
   "metadata": {},
   "outputs": [],
   "source": [
    "# import the webdriver\n",
    "driver = webdriver.Chrome()\n",
    "driver.get(url)\n",
    "time.sleep(5)\n",
    "driver.find_element(By.ID, \"onetrust-accept-btn-handler\").click()"
   ]
  },
  {
   "cell_type": "code",
   "execution_count": 569,
   "metadata": {},
   "outputs": [],
   "source": [
    "text_to_find = \"Show more\"\n",
    "span = driver.find_element(By.XPATH, \"//span[contains(text(), '{}')]\".format(text_to_find))\n",
    "span.click()\n",
    "\n",
    "time.sleep(3)\n",
    "label_text = \"Coffee & Tea\"\n",
    "label_element = driver.find_element(By.XPATH, \"//label[contains(., '{}')]\".format(label_text))\n",
    "checkbox = label_element.find_element(By.XPATH, \"./preceding-sibling::input\")\n",
    "driver.execute_script(\"arguments[0].click();\", checkbox)\n",
    "\n",
    "time.sleep(3)\n",
    "label_text = \"Bars & Pubs\"\n",
    "label_element = driver.find_element(By.XPATH, \"//label[contains(., '{}')]\".format(label_text))\n",
    "checkbox = label_element.find_element(By.XPATH, \"./preceding-sibling::input\")\n",
    "driver.execute_script(\"arguments[0].click();\", checkbox)\n",
    "\n",
    "time.sleep(3)\n",
    "label_text = \"Restaurants\"\n",
    "label_element = driver.find_elements(By.XPATH, \"//label[contains(., '{}')]\".format(label_text))\n",
    "checkbox = label_element[2].find_element(By.XPATH, \"./preceding-sibling::input\")\n",
    "driver.execute_script(\"arguments[0].removeAttribute('checked'); arguments[0].click();\", checkbox)"
   ]
  },
  {
   "cell_type": "code",
   "execution_count": 570,
   "metadata": {},
   "outputs": [],
   "source": [
    "def  getReviews(driver, review):\n",
    "\n",
    "    while True:\n",
    "        try:\n",
    "            business_pages = driver.find_elements(\"xpath\", f\".//div[contains(@data-test, '{review}_list_item')]\")\n",
    "\n",
    "            if len(business_pages) > 0:\n",
    "                href_element = business_pages[0].find_element(\"xpath\", \".//a\")\n",
    "                href_value = href_element.get_attribute(\"href\")\n",
    "                driver.get(href_value)\n",
    "                time.sleep(3)\n",
    "                print(f\"review3 {review}\")\n",
    "                scroll_script = \"document.getElementById('{}').scrollIntoView();\".format( \"REVIEWS\")\n",
    "                driver.execute_script(scroll_script)\n",
    "                        \n",
    "                driver.back()\n",
    "                time.sleep(5)    \n",
    "            else:\n",
    "                return review\n",
    "                        \n",
    "        except ElementClickInterceptedException:\n",
    "            # Retry the operation after waiting for some time\n",
    "            time.sleep(5)\n",
    "            continue\n",
    "        except NoSuchElementException:\n",
    "            print(\"break\")\n",
    "            break\n",
    "\n",
    "        review += 1\n",
    "    \n",
    "    \n",
    "        "
   ]
  },
  {
   "cell_type": "code",
   "execution_count": 571,
   "metadata": {},
   "outputs": [],
   "source": [
    "def goToPage(driver, review, counter):\n",
    "    try:\n",
    "        next_page_link = driver.find_element(\"xpath\", f\".//a[contains(@aria-label, {counter})]\")\n",
    "    except NoSuchElementException:\n",
    "        next_page_link = driver.find_element(\"xpath\", f\".//a[contains(@data-page-number, {counter})]\")\n",
    "           \n",
    "    if next_page_link:\n",
    "        next_page_link.click()\n",
    "        time.sleep(5)\n",
    "        reviewNum = getReviews(driver, review)\n",
    "        review = reviewNum\n",
    "    else:\n",
    "        print(\"ok1\")\n",
    "        # No more pages, break the loop\n",
    "        return \n",
    "        "
   ]
  },
  {
   "cell_type": "code",
   "execution_count": 572,
   "metadata": {},
   "outputs": [],
   "source": [
    "# counter = 2\n",
    "# review = 30\n",
    "\n",
    "# time.sleep(3)\n",
    "# reviewNum = navigate(driver, review)\n",
    "\n",
    "# print(f\"review0 {review}\")\n",
    "# while True:\n",
    "#     # give the DOM time to load\n",
    "#     print(f\"counter1 {counter}\")\n",
    "#     time.sleep(3)\n",
    "#     if counter < 4:\n",
    "#         try:\n",
    "#             reviewNum2 = goToPage(driver, reviewNum, counter)\n",
    "#             reviewNum = reviewNum2\n",
    "#             print(f\"review1 {reviewNum}\")\n",
    "#         except ElementClickInterceptedException:\n",
    "#             # Retry the operation after waiting for some time\n",
    "#             time.sleep(5)\n",
    "#             continue\n",
    "#         except NoSuchElementException:\n",
    "#             break       \n",
    "#         counter += 1\n",
    "#     else:\n",
    "#         break\n",
    "\n",
    "# When all pages have been processed, quit the driver\n",
    "# driver.quit()"
   ]
  },
  {
   "cell_type": "code",
   "execution_count": 573,
   "metadata": {},
   "outputs": [],
   "source": [
    "def  navigate(driver, review):\n",
    "\n",
    "    while True:\n",
    "        try:\n",
    "            business_pages = driver.find_element(\"xpath\", f\".//div[contains(@data-test, '{review}_list_item')]\")\n",
    "            original_window = driver.current_window_handle\n",
    "            assert len(driver.window_handles) == 1\n",
    "\n",
    "            business_pages.click()\n",
    "                        \n",
    "        except ElementClickInterceptedException:\n",
    "            # Retry the operation after waiting for some time\n",
    "            time.sleep(5)\n",
    "            continue\n",
    "        except NoSuchElementException:\n",
    "            print(\"break\")\n",
    "            break\n",
    "\n",
    "        review += 1"
   ]
  }
 ],
 "metadata": {
  "kernelspec": {
   "display_name": "Python 3",
   "language": "python",
   "name": "python3"
  },
  "language_info": {
   "codemirror_mode": {
    "name": "ipython",
    "version": 3
   },
   "file_extension": ".py",
   "mimetype": "text/x-python",
   "name": "python",
   "nbconvert_exporter": "python",
   "pygments_lexer": "ipython3",
   "version": "3.10.0"
  },
  "orig_nbformat": 4
 },
 "nbformat": 4,
 "nbformat_minor": 2
}
