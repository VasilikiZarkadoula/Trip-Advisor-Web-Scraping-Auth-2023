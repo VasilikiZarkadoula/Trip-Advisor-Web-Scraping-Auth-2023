{
 "cells": [
  {
   "cell_type": "code",
   "execution_count": 7,
   "metadata": {},
   "outputs": [],
   "source": [
    "import pandas as pd\n",
    "\n",
    "# Read the CSV file\n",
    "df = pd.read_csv('reviews.csv', encoding='utf-8')"
   ]
  },
  {
   "cell_type": "code",
   "execution_count": 8,
   "metadata": {},
   "outputs": [],
   "source": [
    "# Group by 'Business_name' and calculate the average rating based on sum and count\n",
    "df_grouped = df.groupby('Business_name').agg({'Rating': ['sum', 'count']})\n",
    "df_grouped.columns = ['Sum_Rating', 'Count_Reviews']\n",
    "df_grouped['Average_Rating'] = df_grouped['Sum_Rating'] / df_grouped['Count_Reviews']\n",
    "df_grouped = df_grouped.reset_index()"
   ]
  },
  {
   "cell_type": "code",
   "execution_count": 9,
   "metadata": {},
   "outputs": [],
   "source": [
    "# Sort the DataFrame by average rating and count of reviews in descending order\n",
    "df_sorted = df_grouped.sort_values(by=['Count_Reviews','Average_Rating'], ascending=False)"
   ]
  },
  {
   "cell_type": "code",
   "execution_count": 10,
   "metadata": {},
   "outputs": [
    {
     "name": "stdout",
     "output_type": "stream",
     "text": [
      "Top 10 rated locations:\n",
      "             Business_name  Sum_Rating  Count_Reviews  Average_Rating\n",
      "64                  Koukos       823.0            169        4.869822\n",
      "0    ARC Espresso Wine Bar       515.0            113        4.557522\n",
      "58         JOIN Juice Bars       413.0             88        4.693182\n",
      "76                   Mikel       333.0             81        4.111111\n",
      "114           The Blue Cup       332.0             71        4.676056\n",
      "112              Starbucks       236.0             65        3.630769\n",
      "113            Sugar Angel       278.0             63        4.412698\n",
      "123             To Tourlou       279.0             61        4.573770\n",
      "21         Brusco Meze Bar       237.0             53        4.471698\n",
      "75          Menta Cafe Bar       238.0             51        4.666667\n",
      "Bottom 10 rated locations:\n",
      "                      Business_name  Sum_Rating  Count_Reviews  Average_Rating\n",
      "6          Anapsyktirio Anthokomiki         4.0              1             4.0\n",
      "7                     Aristoteleion         4.0              1             4.0\n",
      "11                        Babalooka         4.0              1             4.0\n",
      "17                   Birdie Num Num         4.0              1             4.0\n",
      "125           VOGA • Urban Cafe Bar         4.0              1             4.0\n",
      "12   Baristars Coffee Spot & Snacks         3.0              1             3.0\n",
      "36                     Coffee Berry         3.0              1             3.0\n",
      "68                             Leon         3.0              1             3.0\n",
      "62                        Kentrikon         1.0              1             1.0\n",
      "110     Shaka Flavourite Shisha Bar         1.0              1             1.0\n"
     ]
    }
   ],
   "source": [
    "# Get the top 10 rated locations\n",
    "top_10 = df_sorted.head(10)\n",
    "\n",
    "# Print the top 10 rated locations\n",
    "print(\"Top 10 rated locations:\")\n",
    "print(top_10)\n",
    "\n",
    "# Get the bottom 10 rated locations\n",
    "bottom_10 = df_sorted.tail(10)\n",
    "\n",
    "# Print the bottom 10 rated locations\n",
    "print(\"Bottom 10 rated locations:\")\n",
    "print(bottom_10)"
   ]
  }
 ],
 "metadata": {
  "kernelspec": {
   "display_name": "Python 3",
   "language": "python",
   "name": "python3"
  },
  "language_info": {
   "codemirror_mode": {
    "name": "ipython",
    "version": 3
   },
   "file_extension": ".py",
   "mimetype": "text/x-python",
   "name": "python",
   "nbconvert_exporter": "python",
   "pygments_lexer": "ipython3",
   "version": "3.7.9"
  },
  "orig_nbformat": 4
 },
 "nbformat": 4,
 "nbformat_minor": 2
}
